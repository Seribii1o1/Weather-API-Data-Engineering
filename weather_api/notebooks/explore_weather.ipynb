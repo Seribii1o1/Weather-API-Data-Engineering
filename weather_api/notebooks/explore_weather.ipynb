{
 "cells": [
  {
   "cell_type": "code",
   "execution_count": null,
   "id": "6f2596b1-1009-46a9-8cf8-814136e9070e",
   "metadata": {},
   "outputs": [],
   "source": []
  },
  {
   "cell_type": "markdown",
   "id": "f65b7e08",
   "metadata": {},
   "source": [
    "How have harvest outcomes changed for Minas Gerais throughout the years?\n",
    "    * Are these harvest outcomes similar to other regions in Brazil?\n",
    "    \n",
    "    * Which region produces the most coffee (by sub-category) in Brazil?"
   ]
  },
  {
   "cell_type": "code",
   "execution_count": null,
   "id": "3ea04fa4",
   "metadata": {},
   "outputs": [],
   "source": []
  },
  {
   "cell_type": "markdown",
   "id": "c4201bcb",
   "metadata": {},
   "source": [
    "How has unemployment changed in the various coffee-producing regions of Brazil?"
   ]
  },
  {
   "cell_type": "code",
   "execution_count": null,
   "id": "0b0819b0",
   "metadata": {},
   "outputs": [],
   "source": []
  },
  {
   "cell_type": "markdown",
   "id": "42d8d646",
   "metadata": {},
   "source": [
    "How have weather outcomes changed for Minas Gerais throughout the years?"
   ]
  },
  {
   "cell_type": "code",
   "execution_count": null,
   "id": "d9fa6372",
   "metadata": {},
   "outputs": [],
   "source": []
  },
  {
   "cell_type": "markdown",
   "id": "199fe540",
   "metadata": {},
   "source": [
    "Does it seem that coffee harvest is dependent on weather? If so, which specific variable seems to \"coffee\" harvest. If not, which variable might appear to be correlated with harvest outcomes instead?"
   ]
  }
 ],
 "metadata": {
  "kernelspec": {
   "display_name": "base",
   "language": "python",
   "name": "python3"
  },
  "language_info": {
   "codemirror_mode": {
    "name": "ipython",
    "version": 3
   },
   "file_extension": ".py",
   "mimetype": "text/x-python",
   "name": "python",
   "nbconvert_exporter": "python",
   "pygments_lexer": "ipython3",
   "version": "3.12.7"
  }
 },
 "nbformat": 4,
 "nbformat_minor": 5
}
